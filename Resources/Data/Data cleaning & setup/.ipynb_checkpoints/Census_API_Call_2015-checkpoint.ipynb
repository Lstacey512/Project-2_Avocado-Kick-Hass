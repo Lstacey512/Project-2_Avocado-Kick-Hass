{
 "cells": [
  {
   "cell_type": "code",
   "execution_count": 1,
   "metadata": {},
   "outputs": [
    {
     "ename": "ModuleNotFoundError",
     "evalue": "No module named 'census_key'",
     "output_type": "error",
     "traceback": [
      "\u001b[1;31m---------------------------------------------------------------------------\u001b[0m",
      "\u001b[1;31mModuleNotFoundError\u001b[0m                       Traceback (most recent call last)",
      "\u001b[1;32m<ipython-input-1-48140bfe2012>\u001b[0m in \u001b[0;36m<module>\u001b[1;34m\u001b[0m\n\u001b[0;32m      6\u001b[0m \u001b[1;32mimport\u001b[0m \u001b[0mjson\u001b[0m\u001b[1;33m\u001b[0m\u001b[1;33m\u001b[0m\u001b[0m\n\u001b[0;32m      7\u001b[0m \u001b[1;33m\u001b[0m\u001b[0m\n\u001b[1;32m----> 8\u001b[1;33m \u001b[1;32mfrom\u001b[0m \u001b[0mcensus_key\u001b[0m \u001b[1;32mimport\u001b[0m \u001b[0mapi_key\u001b[0m\u001b[1;33m\u001b[0m\u001b[1;33m\u001b[0m\u001b[0m\n\u001b[0m",
      "\u001b[1;31mModuleNotFoundError\u001b[0m: No module named 'census_key'"
     ]
    }
   ],
   "source": [
    "#import dependancies\n",
    "import pandas as pd\n",
    "import numpy as np\n",
    "import requests \n",
    "import time \n",
    "import json\n",
    "\n",
    "from census_key import api_key"
   ]
  },
  {
   "cell_type": "code",
   "execution_count": null,
   "metadata": {},
   "outputs": [],
   "source": [
    "markets_df = pd.read_csv('Markets_for_api.csv', encoding = \"ISO-8859-1\", dtype=str)"
   ]
  },
  {
   "cell_type": "code",
   "execution_count": null,
   "metadata": {},
   "outputs": [],
   "source": [
    "markets_df.head(5)"
   ]
  },
  {
   "cell_type": "code",
   "execution_count": null,
   "metadata": {},
   "outputs": [],
   "source": [
    "markets_df[\"County_code\"]=\"\"\n",
    "\n",
    "for index, row in markets_df.iterrows():\n",
    "    FIPS = markets_df.loc[index,\"FIPS_code\"]\n",
    "    county_code = FIPS[2:5]\n",
    "    markets_df.loc[index,\"County_code\"] = county_code\n",
    "    \n",
    "#markets_df.head()\n",
    "    "
   ]
  },
  {
   "cell_type": "code",
   "execution_count": null,
   "metadata": {},
   "outputs": [],
   "source": [
    "##Create holders for Total Population, White Alone Population, Age 20-24, Age 25 - 29, Age 30 - 34, Age 35 - 39 and Median Income\n",
    "markets_df[\"Total_population\"]=\"\"\n",
    "markets_df[\"Non_White_pop\"]=\"\"\n",
    "markets_df[\"Diversity%\"]=\"\"\n",
    "markets_df[\"Millenial_pop\"]=\"\"\n",
    "markets_df[\"Millenial%\"]=\"\"\n",
    "markets_df[\"Median_income\"]=\"\"\n",
    "\n",
    "#markets_df.tail()\n",
    "#There are 42 markets, just FYI"
   ]
  },
  {
   "cell_type": "code",
   "execution_count": null,
   "metadata": {},
   "outputs": [],
   "source": [
    "print(\"Log Start\")\n",
    "print(\"--------------------------\")\n",
    "\n",
    "for index, row in markets_df.iterrows():\n",
    "    \n",
    "    #set needed variables\n",
    "    county = markets_df.loc[index, \"County_code\"]\n",
    "    state = markets_df.loc[index, \"State_code\"]\n",
    "    data = \"B01001_001E,B01001A_001E,B01001_032E,B01001_033E,B01001_034E,B01001_035E,B01001_036E,B01001_037E,B01001_008E,B01001_009E,B01001_010E,B01001_011E,B01001_012E,B01001_013E,B06011_001E\"\n",
    "        \n",
    "    query_url = \"http://api.census.gov/data/2015/acs/acs1?get=\" + str(data) + \"&for=county:\" + str(county) + \"&in=state:\" + str(state) + \"&key=\" + str(api_key)\n",
    "    \n",
    "    try:\n",
    "        response = requests.get(query_url).json()\n",
    "    \n",
    "        census_data = response[1]\n",
    "\n",
    "        for i in range(0, len(census_data)): \n",
    "            census_data[i] = int(census_data[i]) \n",
    "\n",
    "        print(markets_df.loc[index,\"Market_id\"])\n",
    "        \n",
    "        try:\n",
    "            #sum all age data\n",
    "            all_females = sum(census_data[2:8])\n",
    "            all_males = sum(census_data[8:14])\n",
    "            millenials = all_females + all_males\n",
    "            \n",
    "            total_pop = census_data[0]\n",
    "            white_pop = census_data[1]\n",
    "            \n",
    "            non_white = total_pop - white_pop\n",
    "            #print(total_pop, non_white)\n",
    "            \n",
    "            diversity = non_white/total_pop\n",
    "            #print(diversity)\n",
    "\n",
    "        except:\n",
    "            print('error with conversion')\n",
    "        \n",
    "        try:\n",
    "            markets_df.loc[index, \"Total_population\"] = total_pop\n",
    "            markets_df.loc[index, \"Non_White_pop\"]= non_white\n",
    "            markets_df.loc[index,\"Diversity%\"]= diversity\n",
    "            markets_df.loc[index,\"Millenial_pop\"]= millenials\n",
    "            markets_df.loc[index,\"Millenial%\"]= millenials/total_pop\n",
    "            markets_df.loc[index,\"Median_income\"]=census_data[14]\n",
    "        \n",
    "        except:\n",
    "            print('error with api call')\n",
    "            \n",
    "    except:\n",
    "        print(query_url)\n",
    "\n",
    "\n",
    "print(\"---------------\")\n",
    "print(\"Log End\")"
   ]
  },
  {
   "cell_type": "code",
   "execution_count": null,
   "metadata": {},
   "outputs": [],
   "source": [
    "#markets_df.head(10)"
   ]
  },
  {
   "cell_type": "code",
   "execution_count": null,
   "metadata": {},
   "outputs": [],
   "source": [
    "markets_df.to_csv(\"Markets_demo_2015.csv\")"
   ]
  },
  {
   "cell_type": "code",
   "execution_count": null,
   "metadata": {},
   "outputs": [],
   "source": []
  }
 ],
 "metadata": {
  "kernelspec": {
   "display_name": "Python 3",
   "language": "python",
   "name": "python3"
  },
  "language_info": {
   "codemirror_mode": {
    "name": "ipython",
    "version": 3
   },
   "file_extension": ".py",
   "mimetype": "text/x-python",
   "name": "python",
   "nbconvert_exporter": "python",
   "pygments_lexer": "ipython3",
   "version": "3.6.8"
  }
 },
 "nbformat": 4,
 "nbformat_minor": 2
}
