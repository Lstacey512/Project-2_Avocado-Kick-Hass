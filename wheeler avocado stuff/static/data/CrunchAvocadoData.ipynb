{
 "cells": [
  {
   "cell_type": "markdown",
   "metadata": {},
   "source": [
    "# How to Preprocess Florida Avocado Farm Data"
   ]
  },
  {
   "cell_type": "code",
   "execution_count": 1,
   "metadata": {},
   "outputs": [],
   "source": [
    "import pandas as pd\n",
    "import numpy as np\n",
    "import json"
   ]
  },
  {
   "cell_type": "code",
   "execution_count": 2,
   "metadata": {},
   "outputs": [],
   "source": [
    "# Define the filenames we'll use throughout the script\n",
    "original_geojson_file = \"Florida_Counties.geojson\"\n",
    "new_geojson_file = \"Farm_Info_\" + original_geojson_file\n",
    "csv_file = \"FloridaCounties.csv\""
   ]
  },
  {
   "cell_type": "markdown",
   "metadata": {},
   "source": [
    "## Step 1: Take the GeoJSON, extract the counties, and save them to a CSV. "
   ]
  },
  {
   "cell_type": "code",
   "execution_count": 3,
   "metadata": {},
   "outputs": [],
   "source": [
    "# Read the original Geojson into a dataframe\n",
    "df = pd.read_json(original_geojson_file)"
   ]
  },
  {
   "cell_type": "code",
   "execution_count": 4,
   "metadata": {},
   "outputs": [
    {
     "name": "stdout",
     "output_type": "stream",
     "text": [
      "67 counties found.\n"
     ]
    }
   ],
   "source": [
    "# Pull out each county name and save it to a list (use title case and strip whitespace)\n",
    "county_list = []\n",
    "for i in range(len(df)):\n",
    "    county_name = df.iloc[i,1]['properties']['COUNTYNAME'].title().strip()\n",
    "    county_list.append(county_name)\n",
    "    \n",
    "print(f\"{len(county_list)} counties found.\")"
   ]
  },
  {
   "cell_type": "code",
   "execution_count": 5,
   "metadata": {},
   "outputs": [],
   "source": [
    "# Build a new dataframe based on the list of counties, and create an additional field to indicate \n",
    "# whether the county has an avocado farm\n",
    "county_df = pd.DataFrame({\"County\": county_list,\n",
    "                          \"HasAvocadoFarm\": 0})"
   ]
  },
  {
   "cell_type": "code",
   "execution_count": 6,
   "metadata": {},
   "outputs": [
    {
     "data": {
      "text/html": [
       "<div>\n",
       "<style scoped>\n",
       "    .dataframe tbody tr th:only-of-type {\n",
       "        vertical-align: middle;\n",
       "    }\n",
       "\n",
       "    .dataframe tbody tr th {\n",
       "        vertical-align: top;\n",
       "    }\n",
       "\n",
       "    .dataframe thead th {\n",
       "        text-align: right;\n",
       "    }\n",
       "</style>\n",
       "<table border=\"1\" class=\"dataframe\">\n",
       "  <thead>\n",
       "    <tr style=\"text-align: right;\">\n",
       "      <th></th>\n",
       "      <th>County</th>\n",
       "      <th>HasAvocadoFarm</th>\n",
       "    </tr>\n",
       "  </thead>\n",
       "  <tbody>\n",
       "    <tr>\n",
       "      <td>0</td>\n",
       "      <td>Alachua</td>\n",
       "      <td>0</td>\n",
       "    </tr>\n",
       "    <tr>\n",
       "      <td>1</td>\n",
       "      <td>Baker</td>\n",
       "      <td>0</td>\n",
       "    </tr>\n",
       "    <tr>\n",
       "      <td>2</td>\n",
       "      <td>Bay</td>\n",
       "      <td>0</td>\n",
       "    </tr>\n",
       "    <tr>\n",
       "      <td>3</td>\n",
       "      <td>Bradford</td>\n",
       "      <td>0</td>\n",
       "    </tr>\n",
       "    <tr>\n",
       "      <td>4</td>\n",
       "      <td>Brevard</td>\n",
       "      <td>0</td>\n",
       "    </tr>\n",
       "    <tr>\n",
       "      <td>...</td>\n",
       "      <td>...</td>\n",
       "      <td>...</td>\n",
       "    </tr>\n",
       "    <tr>\n",
       "      <td>62</td>\n",
       "      <td>Union</td>\n",
       "      <td>0</td>\n",
       "    </tr>\n",
       "    <tr>\n",
       "      <td>63</td>\n",
       "      <td>Volusia</td>\n",
       "      <td>0</td>\n",
       "    </tr>\n",
       "    <tr>\n",
       "      <td>64</td>\n",
       "      <td>Wakulla</td>\n",
       "      <td>0</td>\n",
       "    </tr>\n",
       "    <tr>\n",
       "      <td>65</td>\n",
       "      <td>Walton</td>\n",
       "      <td>0</td>\n",
       "    </tr>\n",
       "    <tr>\n",
       "      <td>66</td>\n",
       "      <td>Washington</td>\n",
       "      <td>0</td>\n",
       "    </tr>\n",
       "  </tbody>\n",
       "</table>\n",
       "<p>67 rows × 2 columns</p>\n",
       "</div>"
      ],
      "text/plain": [
       "        County  HasAvocadoFarm\n",
       "0      Alachua               0\n",
       "1        Baker               0\n",
       "2          Bay               0\n",
       "3     Bradford               0\n",
       "4      Brevard               0\n",
       "..         ...             ...\n",
       "62       Union               0\n",
       "63     Volusia               0\n",
       "64     Wakulla               0\n",
       "65      Walton               0\n",
       "66  Washington               0\n",
       "\n",
       "[67 rows x 2 columns]"
      ]
     },
     "execution_count": 6,
     "metadata": {},
     "output_type": "execute_result"
    }
   ],
   "source": [
    "# Sort the list and reset the index\n",
    "county_df = county_df.sort_values(['County'])\n",
    "county_df.reset_index(drop=True)"
   ]
  },
  {
   "cell_type": "code",
   "execution_count": 7,
   "metadata": {},
   "outputs": [],
   "source": [
    "# Save the dataframe to a CSV\n",
    "county_df.to_csv(csv_file, index=False, header=True)"
   ]
  },
  {
   "cell_type": "markdown",
   "metadata": {},
   "source": [
    "## Step 2: Manually update the new CSV to set the HasAvocadoFarm field appropriately for each county.\n",
    "\n",
    "### NOTE: Use 1 to indicate the county has an avocado farm, and 0 if it doesn't. This is IMPORTANT!"
   ]
  },
  {
   "cell_type": "code",
   "execution_count": 8,
   "metadata": {},
   "outputs": [],
   "source": [
    "# Stop here!\n",
    "\n",
    "# Update the CSV using your favorite editor (Excel works fine) and save it with the same filename. \n",
    "# Be sure to CLOSE the file after editing! \n",
    "\n",
    "# Once the file CSV is updated and saved, proceed with the next steps. "
   ]
  },
  {
   "cell_type": "markdown",
   "metadata": {},
   "source": [
    "## Step 3: Read the updated CSV into a new dataframe and use it to help modify the contents of the original GeoJSON. The resulting GeoJSON will have a field indicating whether the county in question has an avocado farm. This new field can be used to color the counties as desired. "
   ]
  },
  {
   "cell_type": "code",
   "execution_count": 9,
   "metadata": {},
   "outputs": [
    {
     "data": {
      "text/html": [
       "<div>\n",
       "<style scoped>\n",
       "    .dataframe tbody tr th:only-of-type {\n",
       "        vertical-align: middle;\n",
       "    }\n",
       "\n",
       "    .dataframe tbody tr th {\n",
       "        vertical-align: top;\n",
       "    }\n",
       "\n",
       "    .dataframe thead th {\n",
       "        text-align: right;\n",
       "    }\n",
       "</style>\n",
       "<table border=\"1\" class=\"dataframe\">\n",
       "  <thead>\n",
       "    <tr style=\"text-align: right;\">\n",
       "      <th></th>\n",
       "      <th>HasAvocadoFarm</th>\n",
       "    </tr>\n",
       "    <tr>\n",
       "      <th>County</th>\n",
       "      <th></th>\n",
       "    </tr>\n",
       "  </thead>\n",
       "  <tbody>\n",
       "    <tr>\n",
       "      <td>Alachua</td>\n",
       "      <td>1</td>\n",
       "    </tr>\n",
       "    <tr>\n",
       "      <td>Baker</td>\n",
       "      <td>1</td>\n",
       "    </tr>\n",
       "    <tr>\n",
       "      <td>Bay</td>\n",
       "      <td>0</td>\n",
       "    </tr>\n",
       "    <tr>\n",
       "      <td>Bradford</td>\n",
       "      <td>0</td>\n",
       "    </tr>\n",
       "    <tr>\n",
       "      <td>Brevard</td>\n",
       "      <td>1</td>\n",
       "    </tr>\n",
       "  </tbody>\n",
       "</table>\n",
       "</div>"
      ],
      "text/plain": [
       "          HasAvocadoFarm\n",
       "County                  \n",
       "Alachua                1\n",
       "Baker                  1\n",
       "Bay                    0\n",
       "Bradford               0\n",
       "Brevard                1"
      ]
     },
     "execution_count": 9,
     "metadata": {},
     "output_type": "execute_result"
    }
   ],
   "source": [
    "# Read the CSV that now contains farm information and set the county as the index, to make it easier to search\n",
    "county_df = pd.read_csv(csv_file)\n",
    "county_df = county_df.set_index('County')\n",
    "county_df.head()"
   ]
  },
  {
   "cell_type": "code",
   "execution_count": 10,
   "metadata": {},
   "outputs": [],
   "source": [
    "# Update the original GeoJSON dataframe to add a field for avocado farms.\n",
    "# Initialize this new field based on the information in the CSV.\n",
    "\n",
    "# For each row in the dataframe ...\n",
    "for i in range(len(df)):\n",
    "    \n",
    "    # ... get the county name, determine the farm status, and update the GeoJSON accordingly\n",
    "    county_name = df.iloc[i, 1]['properties']['COUNTYNAME'].title().strip()   \n",
    "    has_farm = county_df.loc[county_name, 'HasAvocadoFarm']\n",
    "    df.iloc[i, 1]['properties']['HasAvocadoFarm'] = has_farm\n",
    "    "
   ]
  },
  {
   "cell_type": "code",
   "execution_count": 11,
   "metadata": {},
   "outputs": [],
   "source": [
    "# Define a helper function to format a GeoJSON\n",
    "def dfGeoJSON(df):\n",
    "    geojson = {'type': 'FeatureCollection', 'features': []}\n",
    "    \n",
    "    for i in range(len(df)):\n",
    "        feature = df.iloc[i, 1]\n",
    "        geojson['features'].append(feature)\n",
    "    \n",
    "    return geojson  "
   ]
  },
  {
   "cell_type": "code",
   "execution_count": 12,
   "metadata": {},
   "outputs": [],
   "source": [
    "# Convert the updated dataframe back to a GeoJSON\n",
    "geojson = dfGeoJSON(df)"
   ]
  },
  {
   "cell_type": "code",
   "execution_count": 13,
   "metadata": {},
   "outputs": [],
   "source": [
    "# Define a helper function to deal with numpy datatypes\n",
    "def convert(o):\n",
    "    if isinstance(o, np.int64): return int(o)  \n",
    "    raise TypeError"
   ]
  },
  {
   "cell_type": "code",
   "execution_count": 14,
   "metadata": {},
   "outputs": [],
   "source": [
    "# Finally, save the new GeoJSON file\n",
    "with open(new_geojson_file, 'w') as file:\n",
    "     file.write(json.dumps(geojson, default=convert))  "
   ]
  },
  {
   "cell_type": "code",
   "execution_count": null,
   "metadata": {},
   "outputs": [],
   "source": []
  }
 ],
 "metadata": {
  "kernelspec": {
   "display_name": "Python 3",
   "language": "python",
   "name": "python3"
  },
  "language_info": {
   "codemirror_mode": {
    "name": "ipython",
    "version": 3
   },
   "file_extension": ".py",
   "mimetype": "text/x-python",
   "name": "python",
   "nbconvert_exporter": "python",
   "pygments_lexer": "ipython3",
   "version": "3.6.9"
  }
 },
 "nbformat": 4,
 "nbformat_minor": 2
}
